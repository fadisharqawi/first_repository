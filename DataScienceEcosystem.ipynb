{
 "cells": [
  {
   "cell_type": "markdown",
   "id": "d7b6e963-5eb9-4d56-aedb-a099da4d8dfa",
   "metadata": {},
   "source": [
    "# Data Sceince Tools and Ecosystems \n"
   ]
  },
  {
   "cell_type": "markdown",
   "id": "6d3bbbbc-33b2-45c2-8aa0-8e357b52ffac",
   "metadata": {},
   "source": [
    "In this notebook, Data Science Tools and Ecosystem are summarized."
   ]
  },
  {
   "cell_type": "markdown",
   "id": "9219d216-8bfd-4d9b-a3da-4c8af2affd7f",
   "metadata": {},
   "source": [
    "**Objectives:**\n",
    "* popular languages that Data Scientists\n",
    "* commonly used libraries used by Data Scientists\n",
    "* arithmetic expressions\n",
    "* Tables "
   ]
  },
  {
   "cell_type": "markdown",
   "id": "90dc1001-ca7c-4065-881f-c503bf683b46",
   "metadata": {},
   "source": [
    "Some of the popular languages that Data Scientists use are:\n",
    "1. python\n",
    "2. sql\n",
    "3. R"
   ]
  },
  {
   "cell_type": "markdown",
   "id": "c1623c4c-a442-430d-b593-caa5c90cd80a",
   "metadata": {},
   "source": [
    "Some of the commonly used libraries used by Data Scientists include:\n",
    "1. pandas\n",
    "2. ggplot\n",
    "3. numpy"
   ]
  },
  {
   "cell_type": "markdown",
   "id": "b9c9e5a3-8b1b-4bd2-92c6-b73b476317f8",
   "metadata": {},
   "source": [
    "| Data Science Tools |\n",
    "|-------------------|\n",
    "| jupyter notebook   |\n",
    "| RStudio            |\n",
    "| Apache Zeppelin   |"
   ]
  },
  {
   "cell_type": "markdown",
   "id": "9d77da23-6bcd-4fca-9766-9f68712cafcf",
   "metadata": {},
   "source": [
    "### Below are a few examples of evaluating arithmetic expressions in Python."
   ]
  },
  {
   "cell_type": "code",
   "execution_count": 5,
   "id": "de2b48fd-ef86-4453-aee8-fc8f9e1a8e44",
   "metadata": {},
   "outputs": [
    {
     "data": {
      "text/plain": [
       "17"
      ]
     },
     "execution_count": 5,
     "metadata": {},
     "output_type": "execute_result"
    }
   ],
   "source": [
    "# this is a simple arithmetic expression to multiply then add integers \n",
    "(3*4)+5"
   ]
  },
  {
   "cell_type": "code",
   "execution_count": 6,
   "id": "8e4ff0fe-722e-400a-8e3f-d70c90316c2b",
   "metadata": {},
   "outputs": [
    {
     "data": {
      "text/plain": [
       "3.3333333333333335"
      ]
     },
     "execution_count": 6,
     "metadata": {},
     "output_type": "execute_result"
    }
   ],
   "source": [
    "#This will convert 200 minutes to hours by diving by 60\n",
    "200/60"
   ]
  },
  {
   "cell_type": "markdown",
   "id": "1f73e33a-c8da-4472-8fd0-ef8f34d5fe21",
   "metadata": {},
   "source": [
    "## auther\n",
    "fadi"
   ]
  },
  {
   "cell_type": "code",
   "execution_count": null,
   "id": "894f5b64-0136-4853-b41b-d2a52daaa937",
   "metadata": {},
   "outputs": [],
   "source": []
  }
 ],
 "metadata": {
  "kernelspec": {
   "display_name": "Python 3 (ipykernel)",
   "language": "python",
   "name": "python3"
  },
  "language_info": {
   "codemirror_mode": {
    "name": "ipython",
    "version": 3
   },
   "file_extension": ".py",
   "mimetype": "text/x-python",
   "name": "python",
   "nbconvert_exporter": "python",
   "pygments_lexer": "ipython3",
   "version": "3.12.7"
  }
 },
 "nbformat": 4,
 "nbformat_minor": 5
}
